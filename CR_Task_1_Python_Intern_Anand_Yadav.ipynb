{
  "nbformat": 4,
  "nbformat_minor": 0,
  "metadata": {
    "colab": {
      "provenance": []
    },
    "kernelspec": {
      "name": "python3",
      "display_name": "Python 3"
    },
    "language_info": {
      "name": "python"
    }
  },
  "cells": [
    {
      "cell_type": "markdown",
      "source": [
        "# **TO-DO List Application using Python**"
      ],
      "metadata": {
        "id": "xAOjYtj2mkLz"
      }
    },
    {
      "cell_type": "code",
      "execution_count": 1,
      "metadata": {
        "id": "MRxvmYhEmb31"
      },
      "outputs": [],
      "source": [
        "import csv\n",
        "import os\n",
        "from datetime import datetime"
      ]
    },
    {
      "cell_type": "code",
      "source": [
        "# File to store tasks\n",
        "file_path = 'todo_list.csv'"
      ],
      "metadata": {
        "id": "BoE9sDX_mv_5"
      },
      "execution_count": 2,
      "outputs": []
    },
    {
      "cell_type": "code",
      "source": [
        "# Function to initialize the CSV file\n",
        "def initialize_file():\n",
        "    if not os.path.exists(file_path):\n",
        "        with open(file_path, 'w', newline='') as file:\n",
        "            writer = csv.writer(file)\n",
        "            writer.writerow([\"Task\", \"Priority\", \"Due Date\", \"Status\"])"
      ],
      "metadata": {
        "id": "5r_F92Zamyl4"
      },
      "execution_count": 3,
      "outputs": []
    },
    {
      "cell_type": "code",
      "source": [
        "# Function to add a task\n",
        "def add_task(task, priority, due_date):\n",
        "    with open(file_path, 'a', newline='') as file:\n",
        "        writer = csv.writer(file)\n",
        "        writer.writerow([task, priority, due_date, \"Pending\"])"
      ],
      "metadata": {
        "id": "0f9KgEJBm5-5"
      },
      "execution_count": 4,
      "outputs": []
    },
    {
      "cell_type": "code",
      "source": [
        "# Function to remove a task\n",
        "def remove_task(task):\n",
        "    tasks = []\n",
        "    with open(file_path, 'r') as file:\n",
        "        reader = csv.reader(file)\n",
        "        tasks = list(reader)\n",
        "    with open(file_path, 'w', newline='') as file:\n",
        "        writer = csv.writer(file)\n",
        "        for row in tasks:\n",
        "            if row[0] != task:\n",
        "                writer.writerow(row)"
      ],
      "metadata": {
        "id": "6wI0UJnxm8Fh"
      },
      "execution_count": 5,
      "outputs": []
    },
    {
      "cell_type": "code",
      "source": [
        "# Function to mark a task as completed\n",
        "def complete_task(task):\n",
        "    tasks = []\n",
        "    with open(file_path, 'r') as file:\n",
        "        reader = csv.reader(file)\n",
        "        tasks = list(reader)\n",
        "    with open(file_path, 'w', newline='') as file:\n",
        "        writer = csv.writer(file)\n",
        "        for row in tasks:\n",
        "            if row[0] == task:\n",
        "                row[3] = \"Completed\"\n",
        "            writer.writerow(row)"
      ],
      "metadata": {
        "id": "_67oMzfqm-aw"
      },
      "execution_count": 6,
      "outputs": []
    },
    {
      "cell_type": "code",
      "source": [
        "# Function to display tasks\n",
        "def display_tasks():\n",
        "    with open(file_path, 'r') as file:\n",
        "        reader = csv.reader(file)\n",
        "        next(reader)  # Skip header\n",
        "        for row in reader:\n",
        "            print(f\"Task: {row[0]}, Priority: {row[1]}, Due Date: {row[2]}, Status: {row[3]}\")"
      ],
      "metadata": {
        "id": "MUYmDMCGnA25"
      },
      "execution_count": 7,
      "outputs": []
    },
    {
      "cell_type": "code",
      "source": [
        "# Main function\n",
        "def main():\n",
        "    initialize_file()\n",
        "    while True:\n",
        "        print(\"\\nTo-Do List Application\")\n",
        "        print(\"1. Add Task\")\n",
        "        print(\"2. Remove Task\")\n",
        "        print(\"3. Mark Task as Completed\")\n",
        "        print(\"4. View Tasks\")\n",
        "        print(\"5. Exit\")\n",
        "        choice = input(\"Enter your choice: \")\n",
        "\n",
        "        if choice == '1':\n",
        "            task = input(\"Enter task description: \")\n",
        "            priority = input(\"Enter task priority (high, medium, low): \")\n",
        "            due_date = input(\"Enter due date (YYYY-MM-DD): \")\n",
        "            add_task(task, priority, due_date)\n",
        "        elif choice == '2':\n",
        "            task = input(\"Enter task description to remove: \")\n",
        "            remove_task(task)\n",
        "        elif choice == '3':\n",
        "            task = input(\"Enter task description to mark as completed: \")\n",
        "            complete_task(task)\n",
        "        elif choice == '4':\n",
        "            print(\"\\nTo-Do List:\")\n",
        "            display_tasks()\n",
        "        elif choice == '5':\n",
        "            print(\"Exiting To-Do List Application. Goodbye!\")\n",
        "            break\n",
        "        else:\n",
        "            print(\"Invalid choice. Please try again.\")\n",
        "\n",
        "if __name__ == \"__main__\":\n",
        "    main()"
      ],
      "metadata": {
        "colab": {
          "base_uri": "https://localhost:8080/"
        },
        "id": "jYnpxFa2nEKP",
        "outputId": "72cf3350-5925-4525-c6a5-5275ba6544d0"
      },
      "execution_count": 8,
      "outputs": [
        {
          "output_type": "stream",
          "name": "stdout",
          "text": [
            "\n",
            "To-Do List Application\n",
            "1. Add Task\n",
            "2. Remove Task\n",
            "3. Mark Task as Completed\n",
            "4. View Tasks\n",
            "5. Exit\n",
            "Enter your choice: 1\n",
            "Enter task description: Complete Internship Task\n",
            "Enter task priority (high, medium, low): high\n",
            "Enter due date (YYYY-MM-DD): 2024-06-23\n",
            "\n",
            "To-Do List Application\n",
            "1. Add Task\n",
            "2. Remove Task\n",
            "3. Mark Task as Completed\n",
            "4. View Tasks\n",
            "5. Exit\n",
            "Enter your choice: 1\n",
            "Enter task description: Prepare College Assignment\n",
            "Enter task priority (high, medium, low): medium\n",
            "Enter due date (YYYY-MM-DD): 2024-06-31\n",
            "\n",
            "To-Do List Application\n",
            "1. Add Task\n",
            "2. Remove Task\n",
            "3. Mark Task as Completed\n",
            "4. View Tasks\n",
            "5. Exit\n",
            "Enter your choice: 1\n",
            "Enter task description: Go to Museum\n",
            "Enter task priority (high, medium, low): low\n",
            "Enter due date (YYYY-MM-DD): 2024-06-25\n",
            "\n",
            "To-Do List Application\n",
            "1. Add Task\n",
            "2. Remove Task\n",
            "3. Mark Task as Completed\n",
            "4. View Tasks\n",
            "5. Exit\n",
            "Enter your choice: 4\n",
            "\n",
            "To-Do List:\n",
            "Task: Complete Internship Task, Priority: high, Due Date: 2024-06-23, Status: Pending\n",
            "Task: Prepare College Assignment, Priority: medium, Due Date: 2024-06-31, Status: Pending\n",
            "Task: Go to Museum, Priority: low, Due Date: 2024-06-25, Status: Pending\n",
            "\n",
            "To-Do List Application\n",
            "1. Add Task\n",
            "2. Remove Task\n",
            "3. Mark Task as Completed\n",
            "4. View Tasks\n",
            "5. Exit\n",
            "Enter your choice: 3\n",
            "Enter task description to mark as completed: Complete Internship Task\n",
            "\n",
            "To-Do List Application\n",
            "1. Add Task\n",
            "2. Remove Task\n",
            "3. Mark Task as Completed\n",
            "4. View Tasks\n",
            "5. Exit\n",
            "Enter your choice: 4\n",
            "\n",
            "To-Do List:\n",
            "Task: Complete Internship Task, Priority: high, Due Date: 2024-06-23, Status: Completed\n",
            "Task: Prepare College Assignment, Priority: medium, Due Date: 2024-06-31, Status: Pending\n",
            "Task: Go to Museum, Priority: low, Due Date: 2024-06-25, Status: Pending\n",
            "\n",
            "To-Do List Application\n",
            "1. Add Task\n",
            "2. Remove Task\n",
            "3. Mark Task as Completed\n",
            "4. View Tasks\n",
            "5. Exit\n",
            "Enter your choice: 2\n",
            "Enter task description to remove: Go to Museum\n",
            "\n",
            "To-Do List Application\n",
            "1. Add Task\n",
            "2. Remove Task\n",
            "3. Mark Task as Completed\n",
            "4. View Tasks\n",
            "5. Exit\n",
            "Enter your choice: 4\n",
            "\n",
            "To-Do List:\n",
            "Task: Complete Internship Task, Priority: high, Due Date: 2024-06-23, Status: Completed\n",
            "Task: Prepare College Assignment, Priority: medium, Due Date: 2024-06-31, Status: Pending\n",
            "\n",
            "To-Do List Application\n",
            "1. Add Task\n",
            "2. Remove Task\n",
            "3. Mark Task as Completed\n",
            "4. View Tasks\n",
            "5. Exit\n",
            "Enter your choice: 5\n",
            "Exiting To-Do List Application. Goodbye!\n"
          ]
        }
      ]
    }
  ]
}